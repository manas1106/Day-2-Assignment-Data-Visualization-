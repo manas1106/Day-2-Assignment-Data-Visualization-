{
 "cells": [
  {
   "cell_type": "markdown",
   "metadata": {},
   "source": [
    "Day 2 assignment\n",
    "\n",
    "Name:- Manas BIsen\n",
    "\n",
    "Email:- manasbisen01@gmail.com\n",
    "\n",
    "date:- 06/07/2021"
   ]
  },
  {
   "cell_type": "markdown",
   "metadata": {},
   "source": [
    "Assignment 2\n",
    "\n",
    "importing libraries"
   ]
  },
  {
   "cell_type": "code",
   "execution_count": 11,
   "metadata": {},
   "outputs": [],
   "source": [
    "import numpy as np\n",
    "import pandas as pd \n",
    "import matplotlib as mpl\n",
    "import matplotlib.pyplot as plt\n",
    "import seaborn as sns\n",
    "%matplotlib inline\n",
    "from numpy.random import randn , randint , uniform , sample"
   ]
  },
  {
   "cell_type": "code",
   "execution_count": 12,
   "metadata": {},
   "outputs": [],
   "source": [
    "df=pd.DataFrame(randn(10,4), columns=['a','b','c','d'])"
   ]
  },
  {
   "cell_type": "code",
   "execution_count": 13,
   "metadata": {},
   "outputs": [
    {
     "data": {
      "text/html": [
       "<div>\n",
       "<style scoped>\n",
       "    .dataframe tbody tr th:only-of-type {\n",
       "        vertical-align: middle;\n",
       "    }\n",
       "\n",
       "    .dataframe tbody tr th {\n",
       "        vertical-align: top;\n",
       "    }\n",
       "\n",
       "    .dataframe thead th {\n",
       "        text-align: right;\n",
       "    }\n",
       "</style>\n",
       "<table border=\"1\" class=\"dataframe\">\n",
       "  <thead>\n",
       "    <tr style=\"text-align: right;\">\n",
       "      <th></th>\n",
       "      <th>a</th>\n",
       "      <th>b</th>\n",
       "      <th>c</th>\n",
       "      <th>d</th>\n",
       "    </tr>\n",
       "  </thead>\n",
       "  <tbody>\n",
       "    <tr>\n",
       "      <th>0</th>\n",
       "      <td>2.075784</td>\n",
       "      <td>0.479856</td>\n",
       "      <td>0.499893</td>\n",
       "      <td>-1.328366</td>\n",
       "    </tr>\n",
       "    <tr>\n",
       "      <th>1</th>\n",
       "      <td>-0.780189</td>\n",
       "      <td>0.653270</td>\n",
       "      <td>1.110111</td>\n",
       "      <td>-0.601145</td>\n",
       "    </tr>\n",
       "    <tr>\n",
       "      <th>2</th>\n",
       "      <td>-1.071648</td>\n",
       "      <td>-0.129956</td>\n",
       "      <td>-0.639777</td>\n",
       "      <td>0.434569</td>\n",
       "    </tr>\n",
       "    <tr>\n",
       "      <th>3</th>\n",
       "      <td>0.342645</td>\n",
       "      <td>0.468482</td>\n",
       "      <td>-1.146866</td>\n",
       "      <td>0.698619</td>\n",
       "    </tr>\n",
       "    <tr>\n",
       "      <th>4</th>\n",
       "      <td>0.078771</td>\n",
       "      <td>-1.538369</td>\n",
       "      <td>0.927190</td>\n",
       "      <td>-0.213674</td>\n",
       "    </tr>\n",
       "    <tr>\n",
       "      <th>5</th>\n",
       "      <td>0.826148</td>\n",
       "      <td>-1.024147</td>\n",
       "      <td>0.125887</td>\n",
       "      <td>1.783867</td>\n",
       "    </tr>\n",
       "    <tr>\n",
       "      <th>6</th>\n",
       "      <td>2.185175</td>\n",
       "      <td>-0.086980</td>\n",
       "      <td>0.913124</td>\n",
       "      <td>-0.613638</td>\n",
       "    </tr>\n",
       "    <tr>\n",
       "      <th>7</th>\n",
       "      <td>-1.906395</td>\n",
       "      <td>1.086947</td>\n",
       "      <td>3.760381</td>\n",
       "      <td>-0.857629</td>\n",
       "    </tr>\n",
       "    <tr>\n",
       "      <th>8</th>\n",
       "      <td>0.205265</td>\n",
       "      <td>0.860312</td>\n",
       "      <td>-1.346907</td>\n",
       "      <td>-0.324290</td>\n",
       "    </tr>\n",
       "    <tr>\n",
       "      <th>9</th>\n",
       "      <td>-1.907081</td>\n",
       "      <td>0.908058</td>\n",
       "      <td>-1.211022</td>\n",
       "      <td>0.841560</td>\n",
       "    </tr>\n",
       "  </tbody>\n",
       "</table>\n",
       "</div>"
      ],
      "text/plain": [
       "          a         b         c         d\n",
       "0  2.075784  0.479856  0.499893 -1.328366\n",
       "1 -0.780189  0.653270  1.110111 -0.601145\n",
       "2 -1.071648 -0.129956 -0.639777  0.434569\n",
       "3  0.342645  0.468482 -1.146866  0.698619\n",
       "4  0.078771 -1.538369  0.927190 -0.213674\n",
       "5  0.826148 -1.024147  0.125887  1.783867\n",
       "6  2.185175 -0.086980  0.913124 -0.613638\n",
       "7 -1.906395  1.086947  3.760381 -0.857629\n",
       "8  0.205265  0.860312 -1.346907 -0.324290\n",
       "9 -1.907081  0.908058 -1.211022  0.841560"
      ]
     },
     "execution_count": 13,
     "metadata": {},
     "output_type": "execute_result"
    }
   ],
   "source": [
    "df"
   ]
  },
  {
   "cell_type": "code",
   "execution_count": 14,
   "metadata": {},
   "outputs": [
    {
     "data": {
      "text/html": [
       "<div>\n",
       "<style scoped>\n",
       "    .dataframe tbody tr th:only-of-type {\n",
       "        vertical-align: middle;\n",
       "    }\n",
       "\n",
       "    .dataframe tbody tr th {\n",
       "        vertical-align: top;\n",
       "    }\n",
       "\n",
       "    .dataframe thead th {\n",
       "        text-align: right;\n",
       "    }\n",
       "</style>\n",
       "<table border=\"1\" class=\"dataframe\">\n",
       "  <thead>\n",
       "    <tr style=\"text-align: right;\">\n",
       "      <th></th>\n",
       "      <th>a</th>\n",
       "      <th>b</th>\n",
       "      <th>c</th>\n",
       "      <th>d</th>\n",
       "    </tr>\n",
       "  </thead>\n",
       "  <tbody>\n",
       "    <tr>\n",
       "      <th>count</th>\n",
       "      <td>10.000000</td>\n",
       "      <td>10.000000</td>\n",
       "      <td>10.000000</td>\n",
       "      <td>10.000000</td>\n",
       "    </tr>\n",
       "    <tr>\n",
       "      <th>mean</th>\n",
       "      <td>0.004847</td>\n",
       "      <td>0.167747</td>\n",
       "      <td>0.299202</td>\n",
       "      <td>-0.018013</td>\n",
       "    </tr>\n",
       "    <tr>\n",
       "      <th>std</th>\n",
       "      <td>1.451448</td>\n",
       "      <td>0.868023</td>\n",
       "      <td>1.543523</td>\n",
       "      <td>0.940030</td>\n",
       "    </tr>\n",
       "    <tr>\n",
       "      <th>min</th>\n",
       "      <td>-1.907081</td>\n",
       "      <td>-1.538369</td>\n",
       "      <td>-1.346907</td>\n",
       "      <td>-1.328366</td>\n",
       "    </tr>\n",
       "    <tr>\n",
       "      <th>25%</th>\n",
       "      <td>-0.998783</td>\n",
       "      <td>-0.119212</td>\n",
       "      <td>-1.020094</td>\n",
       "      <td>-0.610514</td>\n",
       "    </tr>\n",
       "    <tr>\n",
       "      <th>50%</th>\n",
       "      <td>0.142018</td>\n",
       "      <td>0.474169</td>\n",
       "      <td>0.312890</td>\n",
       "      <td>-0.268982</td>\n",
       "    </tr>\n",
       "    <tr>\n",
       "      <th>75%</th>\n",
       "      <td>0.705272</td>\n",
       "      <td>0.808552</td>\n",
       "      <td>0.923674</td>\n",
       "      <td>0.632607</td>\n",
       "    </tr>\n",
       "    <tr>\n",
       "      <th>max</th>\n",
       "      <td>2.185175</td>\n",
       "      <td>1.086947</td>\n",
       "      <td>3.760381</td>\n",
       "      <td>1.783867</td>\n",
       "    </tr>\n",
       "  </tbody>\n",
       "</table>\n",
       "</div>"
      ],
      "text/plain": [
       "               a          b          c          d\n",
       "count  10.000000  10.000000  10.000000  10.000000\n",
       "mean    0.004847   0.167747   0.299202  -0.018013\n",
       "std     1.451448   0.868023   1.543523   0.940030\n",
       "min    -1.907081  -1.538369  -1.346907  -1.328366\n",
       "25%    -0.998783  -0.119212  -1.020094  -0.610514\n",
       "50%     0.142018   0.474169   0.312890  -0.268982\n",
       "75%     0.705272   0.808552   0.923674   0.632607\n",
       "max     2.185175   1.086947   3.760381   1.783867"
      ]
     },
     "execution_count": 14,
     "metadata": {},
     "output_type": "execute_result"
    }
   ],
   "source": [
    "df.describe()"
   ]
  },
  {
   "cell_type": "code",
   "execution_count": 18,
   "metadata": {},
   "outputs": [
    {
     "data": {
      "image/png": "[encoded data removed]",
      "text/plain": [
       "<Figure size 720x720 with 1 Axes>"
      ]
     },
     "metadata": {
      "needs_background": "light"
     },
     "output_type": "display_data"
    }
   ],
   "source": [
    "df.plot(kind='bar',figsize=(10,10))\n",
    "plt.title(\"BAR GRAPH\",color='b')\n",
    "plt.show()"
   ]
  },
  {
   "cell_type": "code",
   "execution_count": null,
   "metadata": {},
   "outputs": [],
   "source": []
  }
 ],
 "metadata": {
  "kernelspec": {
   "display_name": "Python 3",
   "language": "python",
   "name": "python3"
  },
  "language_info": {
   "codemirror_mode": {
    "name": "ipython",
    "version": 3
   },
   "file_extension": ".py",
   "mimetype": "text/x-python",
   "name": "python",
   "nbconvert_exporter": "python",
   "pygments_lexer": "ipython3",
   "version": "3.8.5"
  }
 },
 "nbformat": 4,
 "nbformat_minor": 4
}
